{
  "nbformat": 4,
  "nbformat_minor": 0,
  "metadata": {
    "colab": {
      "name": "Wafer Fault Detection.ipynb",
      "provenance": [],
      "collapsed_sections": [
        "7xUzGAnhqYoW"
      ],
      "mount_file_id": "11nYg0NJ99yw1hCqBxY0V9VX56nIEebMt",
      "authorship_tag": "ABX9TyOofYTmRcqTRKg9Yzbvy3kK",
      "include_colab_link": true
    },
    "kernelspec": {
      "name": "python3",
      "display_name": "Python 3"
    },
    "language_info": {
      "name": "python"
    },
    "accelerator": "TPU"
  },
  "cells": [
    {
      "cell_type": "markdown",
      "metadata": {
        "id": "view-in-github",
        "colab_type": "text"
      },
      "source": [
        "<a href=\"https://colab.research.google.com/github/ranjith13119/Wafer-Fault-Detection/blob/main/Wafer_Fault_Detection.ipynb\" target=\"_parent\"><img src=\"https://colab.research.google.com/assets/colab-badge.svg\" alt=\"Open In Colab\"/></a>"
      ]
    },
    {
      "cell_type": "code",
      "metadata": {
        "id": "J53eDdZInQok"
      },
      "source": [
        "#http://archive.ics.uci.edu/ml/datasets/SECOM"
      ],
      "execution_count": null,
      "outputs": []
    },
    {
      "cell_type": "code",
      "metadata": {
        "id": "qYa7EQ9VQ2Fz"
      },
      "source": [
        "# !pip install numpy>=1.20.0\n",
        "# !pip install pandas>= 1.2.1"
      ],
      "execution_count": null,
      "outputs": []
    },
    {
      "cell_type": "markdown",
      "metadata": {
        "id": "oUNZAwiYqhX0"
      },
      "source": [
        "# **Original Code**"
      ]
    },
    {
      "cell_type": "code",
      "metadata": {
        "id": "P1_MvK8mnTWX"
      },
      "source": [
        "import pandas as pd \n",
        "import numpy as np \n",
        "import matplotlib.pyplot as plt\n",
        "import seaborn as sns\n",
        "from imblearn.over_sampling import SMOTE\n",
        "from sklearn.ensemble import RandomForestClassifier\n",
        "from imblearn.pipeline import Pipeline\n",
        "from sklearn.model_selection import RandomizedSearchCV, StratifiedKFold, GridSearchCV, cross_val_score\n",
        "from xgboost import XGBClassifier\n",
        "from sklearn.metrics  import roc_auc_score,accuracy_score, classification_report, precision_recall_curve, matthews_corrcoef, roc_curve\n",
        "from imblearn.ensemble import EasyEnsembleClassifier\n",
        "from sklearn.impute import SimpleImputer, KNNImputer"
      ],
      "execution_count": 82,
      "outputs": []
    },
    {
      "cell_type": "code",
      "metadata": {
        "id": "IGZLSpHCIzmj"
      },
      "source": [
        "class Preprocessor:\n",
        "  def __init__(self, df):\n",
        "    self.data = df\n",
        "\n",
        "  def modify_columns(self, data):\n",
        "    self.data = data\n",
        "    try:\n",
        "      self.columns = [\"sensor-\" + str(col) for col in self.data.columns]\n",
        "      return self.columns\n",
        "    except Exception as err:\n",
        "      raise Exception()  \n",
        "\n",
        "  def isnull_present(self, data):\n",
        "    self.null_present = False\n",
        "    try:\n",
        "      self.null_counts = data.isna().sum()\n",
        "      for i in range(len(self.null_counts)):\n",
        "        if self.null_counts[i] > 0 :\n",
        "          self.null_present = True\n",
        "      return self.null_present\n",
        "    except Exception as err:\n",
        "      raise Exception()\n",
        "  \n",
        "  def impute_missing_values(self, data):\n",
        "    self.data = data\n",
        "    try:\n",
        "      self.imputer = KNNImputer(n_neighbors=3, weights='uniform',missing_values=np.nan)\n",
        "      self.dfData_newArray = self.imputer.fit_transform(self.data)\n",
        "      self.new_data = pd.DataFrame(data=self.dfData_newArray, columns = self.data.columns)\n",
        "      return self.new_data\n",
        "    except Exception as err:\n",
        "      raise Exception()\n",
        "\n",
        "  def handle_imbalanced_dataset(self,x,y):\n",
        "    try:\n",
        "      self.x_sampled,self.y_sampled = SMOTE(ratio='minority',k_neighbors=10,kind='borderline2',random_state=0).fit_sample(x, y)\n",
        "      return self.x_sampled,self.y_sampled\n",
        "    except Exception as err:\n",
        "      raise Exception()\n",
        "  \n",
        "  def corr_features_removel(self, x, threshold):\n",
        "    try:\n",
        "      col_corr = set()  # Set of all the names of correlated columns\n",
        "      corr_matrix = dataset.corr()\n",
        "      for i in range(len(corr_matrix.columns)):\n",
        "          for j in range(i):\n",
        "              if (corr_matrix.iloc[i, j]) > threshold: # we are interested in absolute coeff value\n",
        "                  colname = corr_matrix.columns[i]  # getting the name of column\n",
        "                  col_corr.add(colname)\n",
        "      return col_corr\n",
        "    \n",
        "    except Exception as err:\n",
        "      raise Exception()\n"
      ],
      "execution_count": 83,
      "outputs": []
    },
    {
      "cell_type": "code",
      "metadata": {
        "id": "CGJLpJueLTJ6"
      },
      "source": [
        "class Model_Finder:\n",
        "  def __init__(self):\n",
        "    self.xgb = XGBClassifier(objective='binary:logistic',n_jobs=-1) \n",
        "    self.RF = RandomForestClassifier()\n",
        "    self.smote = SMOTE()\n",
        "  def get_best_params_for_xgboost(self, train_x, train_y):\n",
        "    try:\n",
        "      self.pipeline = Pipeline([('sm', self.smote), ('xgb', self.xgb)])\n",
        "      self.kf = StratifiedKFold(n_splits = 5)\n",
        "      self.param_grid_xgboost = { 'sm__sampling_strategy' : [0.10, 0.15, 0.25], 'xgb__learning_rate': [0.1, 0.01, 0.001], 'xgb__max_depth': [3, 5, 10, 20],'xgb__n_estimators': [10, 50, 100, 200] }\n",
        "      self.grid = RandomizedSearchCV(self.pipeline, param_distributions = self.param_grid_xgboost, scoring = 'roc_auc', cv = self.kf)\n",
        "      self.grid.fit(train_x, train_y)\n",
        "      self.learning_rate = self.grid.best_params_['learning_rate']\n",
        "      self.max_depth = self.grid.best_params_['max_depth']\n",
        "      self.n_estimators = self.grid.best_params_['n_estimators']\n",
        "      train_x, train_y = self.get_synthesized_data(self.grid.best_params_[\"sm__sampling_strategy\"])\n",
        "      self.xgb = XGBClassifier(learning_rate=self.learning_rate, max_depth=self.max_depth,n_estimators= self.n_estimators, n_jobs=-1, random_state = 78)\n",
        "      self.xgb.fit(train_x, train_y)\n",
        "      return self.xgb\n",
        "    except Exception as e:\n",
        "      raise Exception()\n",
        "  \n",
        "  def get_synthesized_data(self,ratio, train_x, train_y):\n",
        "    self.train_x, self.train_y = SMOTE(sampling_strategy= 0.25,random_state=10, n_jobs = -1).fit_resample(train_x, train_y)\n",
        "    return self.train_x, self.train_y\n",
        "\n",
        "  def get_best_params_for_RF(self, train_x, train_y):\n",
        "    try:\n",
        "      self.pipeline = Pipeline([('sm', self.smote), ('rf', self.RF)])\n",
        "      self.kf = StratifiedKFold(n_splits = 5)\n",
        "      self.params = { 'sm__sampling_strategy' : [0.10, 0.15, 0.25], \"rf__n_estimators\": [50, 100, 125], \"rf__criterion\": ['gini', 'entropy'], \"rf__max_depth\": range(4, 6, 1) , \"rf__max_features\": ['auto', 'log2'] }\n",
        "      self.grid = RandomizedSearchCV(self.pipeline, param_distributions = self.params, scoring = 'roc_auc', cv = self.kf)\n",
        "      self.grid.fit(X_train, y_train)\n",
        "      self.n_estimators = self.grid.best_params_[\"rf__n_estimators\"]\n",
        "      self.max_features = self.grid.best_params_[\"rf__max_features\"]\n",
        "      self.criterion = self.grid.best_params_[\"rf__criterion\"]\n",
        "      self.max_depth = self.grid.best_params_[\"rf__max_depth\"]\n",
        "      train_x, train_y = self.get_synthesized_data(self.grid.best_params_[\"sm__sampling_strategy\"])\n",
        "      self.rf_classifier = RandomForestClassifier(n_estimators = self.n_estimators, max_features= self.max_features, max_depth = self.max_depth,\n",
        "                                                  criterion = self.criterion, random_state = 78, class_weight = \"balanced\")\n",
        "      self.rf_classifier.fit(train_x, train_y)\n",
        "      return self.rf_classifier\n",
        "    except Exception as e:\n",
        "      raise Exception\n",
        "\n",
        "  def get_best_model(self, train_x, test_x, train_y, test_y):\n",
        "    try:\n",
        "      self.xgboost= self.get_best_params_for_xgboost(train_x,train_y)\n",
        "      self.prediction_xgboost = self.xgboost.predict(test_x)\n",
        "      if len(test_y.unique()) == 1: #if there is only one label in y, then roc_auc_score returns error. We will use accuracy in that case\n",
        "          self.xgboost_score = accuracy_score(test_y, self.prediction_xgboost)\n",
        "      else:\n",
        "          self.xgboost_score = roc_auc_score(test_y, self.prediction_xgboost) # AUC for XGBoost \n",
        "      \n",
        "      self.RF = self.get_best_params_for_RF(train_x,train_y)\n",
        "      self.prediction_RF=self.svm.predict(test_x)\n",
        "\n",
        "      if len(test_y.unique()) == 1: \n",
        "          self.rf_score = accuracy_score(test_y,self.prediction_RF)\n",
        "      else:\n",
        "          self.rf_score = roc_auc_score(test_y, self.prediction_RF) # AUC for Random Forest\n",
        "\n",
        "      print(\"Prediction completed\")\n",
        "\n",
        "      #comparing the two models\n",
        "      if self.xgboost_score > self.rf_score:\n",
        "          return 'XGBoost', self.xgboost, self.xgboost_score\n",
        "      else:\n",
        "        return 'Random Forest', self.RF, self.rf_score\n",
        "    except Exception as e:\n",
        "      raise Exception()"
      ],
      "execution_count": 84,
      "outputs": []
    },
    {
      "cell_type": "code",
      "metadata": {
        "id": "LVW95jgoKguB"
      },
      "source": [
        "class TrainModel:\n",
        "  def __init__(self, data, labels):\n",
        "    self.data = data\n",
        "    self.labels = labels\n",
        "  def trainingModel(self):\n",
        "    try:\n",
        "      preprocessor = Preprocessor(self.data)\n",
        "      self.data.columns = preprocessor.modify_columns(self.data)\n",
        "      is_null_present = preprocessor.isnull_present(self.data)\n",
        "      if (is_null_present):\n",
        "        self.data = preprocessor.impute_missing_values(self.data)\n",
        "      X,Y = self.data, self.labels.loc[:,0]\n",
        "      self.X_train, self.X_test, self.y_train, self.y_test = train_test_split(X, Y, test_size = 1/3 , random_state = 0)\n",
        "      # corr = corr_features_removel(X_train, 0.9)\n",
        "      # self.X_train.drop(corr, inplace = True, axis = 1)\n",
        "      # self.X_test.drop(corr, inplace = True, axis = 1)\n",
        "      model_finder = Model_Finder() \n",
        "      best_model_name, best_model, best_score = model_finder.get_best_model(self.X_train, self.X_test, self.y_train, self.y_test) \n",
        "      print(\"best model is {} \".format(best_model_name))\n",
        "      filename = '/content/drive/MyDrive/Classification/Wafer Fault Classification/best_model_{}.sav'.format(best_model_name)\n",
        "      pickle.dump(best_model, open(filename, 'wb'))    \n",
        "      loaded_model = pickle.load(open(filename, 'rb'))\n",
        "      self.y_predict = loaded_model.predict(self.X_test)\n",
        "      print(confusion_matrix(self.y_test,self.y_predict))\n",
        "      print(accuracy_score(self.y_test,self.y_predict))\n",
        "      print(classification_report(self.y_test,self.y_predict))\n",
        "    except Exception as e:\n",
        "      raise Exception() \n"
      ],
      "execution_count": 92,
      "outputs": []
    },
    {
      "cell_type": "code",
      "metadata": {
        "id": "kjvPqoyuNHfL"
      },
      "source": [
        "try:\n",
        "  dfData = pd.read_csv('/content/drive/MyDrive/Classification/Wafer Fault Classification/secom.data.txt',delimiter=' ',header=None)\n",
        "  dfLabels = pd.read_csv('/content/drive/MyDrive/Classification/Wafer Fault Classification/secom_labels.data.txt',delimiter=' ',header=None)\n",
        "  trainModelObj = TrainModel(dfData, dfLabels)\n",
        "  trainModelObj.trainingModel()\n",
        "except Exception as e:\n",
        "  raise Exception()"
      ],
      "execution_count": null,
      "outputs": []
    },
    {
      "cell_type": "markdown",
      "metadata": {
        "id": "7xUzGAnhqYoW"
      },
      "source": [
        "# **Test Code**"
      ]
    },
    {
      "cell_type": "code",
      "metadata": {
        "id": "ejwQhDj3YRq1"
      },
      "source": [
        "dfData = pd.read_csv('/content/drive/MyDrive/Classification/Wafer Fault Classification/secom.data.txt',delimiter=' ',header=None)\n",
        "dfLabels = pd.read_csv('/content/drive/MyDrive/Classification/Wafer Fault Classification/secom_labels.data.txt',delimiter=' ',header=None)"
      ],
      "execution_count": 48,
      "outputs": []
    },
    {
      "cell_type": "code",
      "metadata": {
        "id": "GIR8dl8IRYC7"
      },
      "source": [
        "# using KNN imputer to fill the null value\n",
        "\n",
        "from sklearn.impute import SimpleImputer, KNNImputer\n",
        "def impute_missingValue(data):\n",
        "  imputer = KNNImputer(n_neighbors=3, weights='uniform',missing_values=np.nan)\n",
        "  dfData_newArray = imputer.fit_transform(data)\n",
        "  new_data = pd.DataFrame(data=dfData_newArray, columns = data.columns)\n",
        "  return new_data"
      ],
      "execution_count": 50,
      "outputs": []
    },
    {
      "cell_type": "code",
      "metadata": {
        "id": "L9Y6uTHMRczF"
      },
      "source": [
        "dfData = impute_missingValue(dfData)"
      ],
      "execution_count": 51,
      "outputs": []
    },
    {
      "cell_type": "code",
      "metadata": {
        "id": "5XmgSEWiRd6t"
      },
      "source": [
        "# remove the columns with Zero Standard Deviation\n",
        "\n",
        "columns = dfData.columns\n",
        "columns_drop = []\n",
        "for x in columns:\n",
        "  if dfData[x].std() == 0 :\n",
        "    columns_drop.append(x)"
      ],
      "execution_count": 54,
      "outputs": []
    },
    {
      "cell_type": "code",
      "metadata": {
        "id": "pDU8FLRbRYbI"
      },
      "source": [
        "dfData.drop(columns_drop, axis = 1, inplace = True)"
      ],
      "execution_count": 55,
      "outputs": []
    },
    {
      "cell_type": "code",
      "metadata": {
        "colab": {
          "base_uri": "https://localhost:8080/"
        },
        "id": "gqsD5mo1T_ct",
        "outputId": "69efb913-0bc9-40dc-808f-f4b68ab92d92"
      },
      "source": [
        "from imblearn.over_sampling import SMOTE\n",
        "from sklearn.ensemble import RandomForestClassifier\n",
        "from imblearn.pipeline import Pipeline\n",
        "from sklearn.model_selection import RandomizedSearchCV, StratifiedKFold\n",
        "X = dfData\n",
        "y = dfLabels.loc[:,0]\n",
        "\n",
        "from sklearn.model_selection import train_test_split\n",
        "X_train, X_test, y_train, y_test = train_test_split(X, y, test_size= 1 / 3, random_state=355)\n",
        "\n",
        "sm = SMOTE()\n",
        "rf = RandomForestClassifier()\n",
        "\n",
        "pipeline = Pipeline([('sm', sm), ('rf', rf)])\n",
        "\n",
        "kf = StratifiedKFold(n_splits = 5)\n",
        "\n",
        "params = {\n",
        "    'sm__sampling_strategy' : [0.10, 0.15, 0.25],\n",
        "    \"rf__n_estimators\": [50, 100, 125], \n",
        "    \"rf__criterion\": ['gini', 'entropy'], \n",
        "    \"rf__max_depth\": range(4, 6, 1) , \n",
        "    \"rf__max_features\": ['auto', 'log2']\n",
        "}\n",
        "\n",
        "grid = RandomizedSearchCV(pipeline, param_distributions = params, scoring = 'roc_auc', cv = kf)\n",
        "\n",
        "grid.fit(X_train, y_train)"
      ],
      "execution_count": 57,
      "outputs": [
        {
          "output_type": "execute_result",
          "data": {
            "text/plain": [
              "RandomizedSearchCV(cv=StratifiedKFold(n_splits=5, random_state=None, shuffle=False),\n",
              "                   estimator=Pipeline(steps=[('sm', SMOTE()),\n",
              "                                             ('rf', RandomForestClassifier())]),\n",
              "                   param_distributions={'rf__criterion': ['gini', 'entropy'],\n",
              "                                        'rf__max_depth': range(4, 6),\n",
              "                                        'rf__max_features': ['auto', 'log2'],\n",
              "                                        'rf__n_estimators': [50, 100, 125],\n",
              "                                        'sm__sampling_strategy': [0.1, 0.15,\n",
              "                                                                  0.25]},\n",
              "                   scoring='roc_auc')"
            ]
          },
          "metadata": {
            "tags": []
          },
          "execution_count": 57
        }
      ]
    },
    {
      "cell_type": "code",
      "metadata": {
        "colab": {
          "base_uri": "https://localhost:8080/"
        },
        "id": "GW5fDfUrlatP",
        "outputId": "8c5f2f45-10d4-45cc-8ad8-efa386a20442"
      },
      "source": [
        "grid.best_params_"
      ],
      "execution_count": 58,
      "outputs": [
        {
          "output_type": "execute_result",
          "data": {
            "text/plain": [
              "{'rf__criterion': 'entropy',\n",
              " 'rf__max_depth': 4,\n",
              " 'rf__max_features': 'auto',\n",
              " 'rf__n_estimators': 50,\n",
              " 'sm__sampling_strategy': 0.25}"
            ]
          },
          "metadata": {
            "tags": []
          },
          "execution_count": 58
        }
      ]
    },
    {
      "cell_type": "code",
      "metadata": {
        "id": "664ShDd8VT5a"
      },
      "source": [
        "from sklearn.model_selection import train_test_split\n",
        "X_train, X_test, y_train, y_test = train_test_split(X, y, test_size= 1 / 3, random_state=355)"
      ],
      "execution_count": 59,
      "outputs": []
    },
    {
      "cell_type": "code",
      "metadata": {
        "id": "nIEz-O6XUv7y"
      },
      "source": [
        "from imblearn.over_sampling import SMOTE \n",
        "X_train, y_train = SMOTE(sampling_strategy= grid.best_params_['sm__sampling_strategy'],random_state=10, n_jobs = -1).fit_resample(X_train, y_train)"
      ],
      "execution_count": 60,
      "outputs": []
    },
    {
      "cell_type": "code",
      "metadata": {
        "id": "isiABEB0lHu9"
      },
      "source": [
        "clf = RandomForestClassifier(n_estimators = 50, max_features= 'auto', max_depth = 4,\n",
        "                                                  criterion = 'entropy', random_state = 78, class_weight = \"balanced\")"
      ],
      "execution_count": 76,
      "outputs": []
    },
    {
      "cell_type": "code",
      "metadata": {
        "colab": {
          "base_uri": "https://localhost:8080/"
        },
        "id": "piJY8DHBVWVA",
        "outputId": "79921638-030c-4842-e64f-379de9c9a201"
      },
      "source": [
        "clf.fit(X_train, y_train)"
      ],
      "execution_count": 77,
      "outputs": [
        {
          "output_type": "execute_result",
          "data": {
            "text/plain": [
              "RandomForestClassifier(class_weight='balanced', criterion='entropy',\n",
              "                       max_depth=4, n_estimators=50, random_state=78)"
            ]
          },
          "metadata": {
            "tags": []
          },
          "execution_count": 77
        }
      ]
    },
    {
      "cell_type": "code",
      "metadata": {
        "colab": {
          "base_uri": "https://localhost:8080/"
        },
        "id": "PIwuYJ0NVYQz",
        "outputId": "5fefb3de-5ded-4e2f-862a-ca9bb2b5711a"
      },
      "source": [
        "prediction = clf.predict(X_test)\n",
        "from sklearn.metrics import accuracy_score\n",
        "acc = accuracy_score(y_test,prediction)\n",
        "print('Accuracy: %.3f'%acc)\n",
        "print(classification_report(y_test,prediction)) \n",
        "print(roc_auc_score(y_test,prediction))"
      ],
      "execution_count": 78,
      "outputs": [
        {
          "output_type": "stream",
          "text": [
            "Accuracy: 0.866\n",
            "              precision    recall  f1-score   support\n",
            "\n",
            "          -1       0.94      0.91      0.93       487\n",
            "           1       0.19      0.28      0.22        36\n",
            "\n",
            "    accuracy                           0.87       523\n",
            "   macro avg       0.56      0.59      0.57       523\n",
            "weighted avg       0.89      0.87      0.88       523\n",
            "\n",
            "0.5937143509012092\n"
          ],
          "name": "stdout"
        }
      ]
    },
    {
      "cell_type": "code",
      "metadata": {
        "colab": {
          "base_uri": "https://localhost:8080/",
          "height": 265
        },
        "id": "IoNgMH6SbnA3",
        "outputId": "d06ba71b-dcc5-46ed-be4c-07b1836fb2a2"
      },
      "source": [
        "y_pred_proba = clf.predict_proba(X_test)[::,1]\n",
        "fpr, tpr, _ = roc_curve(y_test,  y_pred_proba)\n",
        "auc = roc_auc_score(y_test, y_pred_proba)\n",
        "plt.plot(fpr,tpr,label=\"data 1, auc=\"+str(auc))\n",
        "plt.legend(loc=4)\n",
        "plt.show()"
      ],
      "execution_count": 299,
      "outputs": [
        {
          "output_type": "display_data",
          "data": {
            "image/png": "[encoded data removed]",
            "text/plain": [
              "<Figure size 432x288 with 1 Axes>"
            ]
          },
          "metadata": {
            "tags": [],
            "needs_background": "light"
          }
        }
      ]
    }
  ]
}